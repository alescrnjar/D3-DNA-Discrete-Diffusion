{
 "cells": [
  {
   "cell_type": "code",
   "execution_count": 1,
   "metadata": {},
   "outputs": [],
   "source": [
    "import tqdm\n",
    "import numpy as np\n",
    "import os\n",
    "import sys \n",
    "sys.path.append('../../LM_Tests/My_LM_Library/')\n",
    "import myRAGtools\n",
    "import myRAGtools_utils\n",
    "key_file='../../LM_Tests/openai_api_key.txt'\n",
    "with open(key_file, 'r') as file:\n",
    "    openai_api_key=file.read()\n",
    "os.environ[\"OPENAI_API_KEY\"] = openai_api_key"
   ]
  },
  {
   "cell_type": "code",
   "execution_count": 2,
   "metadata": {},
   "outputs": [],
   "source": [
    "pydirec='./'\n",
    "py_scripts=[\n",
    "    pydirec+'flash_attn_interface.py' # https://github.com/Dao-AILab/flash-attention/blob/main/flash_attn/flash_attn_interface.py\n",
    "]\n"
   ]
  },
  {
   "cell_type": "code",
   "execution_count": 3,
   "metadata": {},
   "outputs": [
    {
     "name": "stdout",
     "output_type": "stream",
     "text": [
      "len(text_splits)=64\n",
      "64\n"
     ]
    }
   ],
   "source": [
    "py_splits=myRAGtools.get_splits(py_scripts, chunk_size=1000, chunk_overlap=0, correct_spelling=False, doctype='python')\n",
    "print(len(py_splits))"
   ]
  },
  {
   "cell_type": "code",
   "execution_count": 7,
   "metadata": {},
   "outputs": [],
   "source": [
    "py_retriever=myRAGtools.get_retriever_for_text_splits(py_splits, k_to_retrieve=10, vectorstore='FAISS', distance_strategy='COSINE')\n"
   ]
  },
  {
   "cell_type": "code",
   "execution_count": 11,
   "metadata": {},
   "outputs": [
    {
     "name": "stdout",
     "output_type": "stream",
     "text": [
      "The part of the code that is GPU type-dependent is the function `_get_block_size_n` which includes conditional \n",
      "statements based on the GPU type.\n"
     ]
    }
   ],
   "source": [
    "#question='Create a single python function that does exactly what flash_attn_varlen_qkvpacked_func does. If other functions are called, such as _flash_attn_varlen_forward, insert their code explicitely.'\n",
    "question='What part of the code is GPU type-dependent?'\n",
    "answer=myRAGtools.rag_chain(question,py_retriever,\n",
    "                            #premise='Report one or multiple sentences from the original text, that are the most relevant to answer the following question. '\n",
    "                            )\n",
    "myRAGtools_utils.print_force_new_line(answer)\n"
   ]
  },
  {
   "cell_type": "code",
   "execution_count": 6,
   "metadata": {},
   "outputs": [],
   "source": [
    "outname='prov.txt'\n",
    "outf=open(outname,'w')\n",
    "outf.write(answer)\n",
    "outf.close()"
   ]
  }
 ],
 "metadata": {
  "kernelspec": {
   "display_name": "base",
   "language": "python",
   "name": "python3"
  },
  "language_info": {
   "codemirror_mode": {
    "name": "ipython",
    "version": 3
   },
   "file_extension": ".py",
   "mimetype": "text/x-python",
   "name": "python",
   "nbconvert_exporter": "python",
   "pygments_lexer": "ipython3",
   "version": "3.9.12"
  }
 },
 "nbformat": 4,
 "nbformat_minor": 2
}
